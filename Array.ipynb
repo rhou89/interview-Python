{
 "metadata": {
  "language_info": {
   "codemirror_mode": {
    "name": "ipython",
    "version": 3
   },
   "file_extension": ".py",
   "mimetype": "text/x-python",
   "name": "python",
   "nbconvert_exporter": "python",
   "pygments_lexer": "ipython3",
   "version": "3.8.5"
  },
  "orig_nbformat": 2,
  "kernelspec": {
   "name": "python3",
   "display_name": "Python 3",
   "language": "python"
  }
 },
 "nbformat": 4,
 "nbformat_minor": 2,
 "cells": [
  {
   "cell_type": "code",
   "execution_count": 1,
   "metadata": {},
   "outputs": [
    {
     "output_type": "stream",
     "name": "stdout",
     "text": [
      "[1, 3, 4, 0, 0, 0]\n"
     ]
    }
   ],
   "source": [
    "# List comprehension\n",
    "nums = [1,3,4,-2,0,-5]\n",
    "print([item if item>0 else 0 for item in nums])"
   ]
  },
  {
   "cell_type": "code",
   "execution_count": 2,
   "metadata": {},
   "outputs": [
    {
     "output_type": "stream",
     "name": "stdout",
     "text": [
      "1\n2\n3\n"
     ]
    }
   ],
   "source": [
    "# Python iter\n",
    "a = iter([1, 2, 3])\n",
    "while a:\n",
    "    try:\n",
    "        print(next(a))\n",
    "    except StopIteration:\n",
    "        break"
   ]
  },
  {
   "cell_type": "code",
   "execution_count": null,
   "metadata": {},
   "outputs": [],
   "source": [
    "# Python filter\n",
    "s = \"A man, a plan, a canal: Panama\"\n",
    "print(list(filter(str.isalnum,s.lower())))\n",
    "\n",
    "my_list = [1, 5, 4, 6, 8, 11, 3, 12]\n",
    "new_list = list(filter(lambda x: (x%2 == 0), my_list))\n",
    "print(new_list)\n",
    "\n",
    "new_list = list(map(lambda x: x * 2 , my_list))\n",
    "print(new_list)"
   ]
  },
  {
   "cell_type": "code",
   "execution_count": 3,
   "metadata": {},
   "outputs": [
    {
     "output_type": "stream",
     "name": "stdout",
     "text": [
      "[1, 3, 9, 7, 5]\n1 [3, 5, 4, 7, 9]\n3 [4, 5, 9, 7]\n"
     ]
    }
   ],
   "source": [
    "# Python heap or priority queue\n",
    "import heapq\n",
    "li = [5, 7, 9, 1, 3]\n",
    "heapq.heapify(li)\n",
    "print(li)\n",
    "heapq.heappush(li,4)\n",
    "print(heapq.heappop(li), li)\n",
    "print(heapq.heappop(li), li)"
   ]
  },
  {
   "cell_type": "code",
   "execution_count": 4,
   "metadata": {},
   "outputs": [
    {
     "output_type": "stream",
     "name": "stdout",
     "text": [
      "[(-5, 'xx'), (5, 'cd'), (1, 'a')]\n"
     ]
    }
   ],
   "source": [
    "# Heap with tuple\n",
    "li = [(1,'a'), (5,'cd'), (-5, 'xx')]\n",
    "heapq.heapify(li)\n",
    "print(li)"
   ]
  },
  {
   "cell_type": "code",
   "execution_count": 5,
   "metadata": {},
   "outputs": [
    {
     "output_type": "stream",
     "name": "stdout",
     "text": [
      "deque([22, 5, 23, 78, 64, 1, 51])\n51 deque([22, 5, 23, 78, 64, 1])\n22 deque([5, 23, 78, 64, 1])\n"
     ]
    }
   ],
   "source": [
    "# Python double-ended queue\n",
    "from collections import deque\n",
    "a = deque([5,23,78,64,1])\n",
    "a.append(51)\n",
    "a.appendleft(22)\n",
    "print(a)\n",
    "print(a.pop(), a)\n",
    "print(a.popleft(), a)"
   ]
  },
  {
   "cell_type": "code",
   "execution_count": 6,
   "metadata": {},
   "outputs": [
    {
     "output_type": "stream",
     "name": "stdout",
     "text": [
      "6\n8\n8\n"
     ]
    }
   ],
   "source": [
    "# Python binary search\n",
    "import bisect\n",
    "a = sorted([10,50,100,500,10,10,25,50,100])\n",
    "print(bisect.bisect_left(a, 100))\n",
    "print(bisect.bisect_right(a, 100))\n",
    "print(bisect.bisect(a, 100))"
   ]
  },
  {
   "cell_type": "code",
   "execution_count": 7,
   "metadata": {},
   "outputs": [
    {
     "output_type": "stream",
     "name": "stdout",
     "text": [
      "4\n[3, 4, 5]\n"
     ]
    }
   ],
   "source": [
    "# Multi-dimensional array\n",
    "print(len([[x+y for x in range(3)] for y in range(4)]))\n",
    "print(max([[x+y for x in range(3)] for y in range(4)]))"
   ]
  },
  {
   "cell_type": "code",
   "execution_count": 8,
   "metadata": {},
   "outputs": [
    {
     "output_type": "stream",
     "name": "stdout",
     "text": [
      "{1, 2, 3, 4, 5}\n{1, 2, 3}\n{1, 2, 3, 4, 5, 6}\n{4, 5}\n{1, 2, 3, 6}\n1\n{2, 3, 4, 5}\n"
     ]
    }
   ],
   "source": [
    "# Python set\n",
    "a = set((1,2,3))\n",
    "a.add(3)\n",
    "a.update((3,4,5))\n",
    "a.discard(6) # remove (error if doesn't exist) # pop (last item) # clear (reset to empty) # del (deltet it from memory)\n",
    "print(a)\n",
    "print(a.difference([4,5,6,6]))\n",
    "print(a.union((4,5,6,6)))\n",
    "print(a.intersection((4,5,6,6)))\n",
    "print(a.symmetric_difference((4,5,6,6)))\n",
    "print(a.pop())\n",
    "print(a)"
   ]
  },
  {
   "cell_type": "code",
   "execution_count": 9,
   "metadata": {},
   "outputs": [
    {
     "output_type": "stream",
     "name": "stdout",
     "text": [
      "a\n65\n"
     ]
    }
   ],
   "source": [
    "# Python string\n",
    "x = 123\n",
    "int(str(x)[::-1])\n",
    "len(str(x))\n",
    "print(chr(97))\n",
    "print(ord('A'))"
   ]
  },
  {
   "cell_type": "code",
   "execution_count": 10,
   "metadata": {},
   "outputs": [
    {
     "output_type": "stream",
     "name": "stdout",
     "text": [
      "Hello ,   World!\n   hello ,   world!\n   HELLO ,   WORLD!\n   Helloo ,   Woorld!\n['   Hello ', '   World!']\n['Hello', ',', 'World!']\nFalse\n   Hello ,   World!!\n  e\n!dlroW   , olleH   \n1;;2;;3;;4\n[' ', ' ', ' ', ' ', ' ', ' ', ' ', '!', ',', 'H', 'W', 'd', 'e', 'l', 'l', 'l', 'o', 'o', 'r']\n5 -1\n\\nnn\n"
     ]
    }
   ],
   "source": [
    "# Python string\n",
    "a = \"   Hello ,   World!\"\n",
    "print(a.strip())\n",
    "print(a.lower())\n",
    "print(a.upper())\n",
    "print(a.replace('o', 'oo'))\n",
    "print(a.split(','))\n",
    "print(a.split())\n",
    "print('H ' in a)\n",
    "print(a + '!')\n",
    "print(a[0:5:2])\n",
    "print(a[::-1])\n",
    "print(';;'.join('1234'))\n",
    "print(sorted(a))\n",
    "print(a.find('ll'), a.find('llp'))\n",
    "print(r'\\nnn')"
   ]
  },
  {
   "cell_type": "code",
   "execution_count": 11,
   "metadata": {},
   "outputs": [
    {
     "output_type": "execute_result",
     "data": {
      "text/plain": [
       "dict_keys(['?', '!'])"
      ]
     },
     "metadata": {},
     "execution_count": 11
    }
   ],
   "source": [
    "# Python dict()\n",
    "hashtab = {}\n",
    "hashtab['?'] = 2\n",
    "hashtab['!'] = 9\n",
    "hashtab.keys()"
   ]
  },
  {
   "cell_type": "code",
   "execution_count": 12,
   "metadata": {},
   "outputs": [
    {
     "output_type": "stream",
     "name": "stdout",
     "text": [
      "[5, -5]\n{'I': [1, -1], 'X': [10, -10], 'L': 50, 'C': 100, 'D': 500, 'M': 1000}\n{'I': [1, -1], 'L': 50, 'C': 100, 'D': 500, 'M': 1000}\n"
     ]
    }
   ],
   "source": [
    "# Python dict() - continued\n",
    "a = {'I':[1,-1], 'V':[5,-5], 'X':[10,-10], 'L':50, 'C':100, 'D':500, 'M':1000}\n",
    "print(a.pop('V'))\n",
    "print(a)\n",
    "del a['X']\n",
    "print(a)"
   ]
  },
  {
   "cell_type": "code",
   "execution_count": 13,
   "metadata": {},
   "outputs": [
    {
     "output_type": "stream",
     "name": "stdout",
     "text": [
      "('B', 'C', 'D', 'E', 'F', 'G', 'A')\n(2, 2, 2, 2, 2, 2, 7)\n"
     ]
    }
   ],
   "source": [
    "# Python dict() - continued\n",
    "hashtab = {}\n",
    "ss = [\"C\",\"A\",\"A\",\"A\",\"A\",\"A\",\"A\",\"B\",\"D\",\"E\",\"F\",\"G\"]\n",
    "for item in ss:\n",
    "    hashtab[item] = hashtab.get(item, 1) + 1\n",
    "keys, vals = list(zip(*sorted(hashtab.items(), key = lambda item: (item[1],item[0]))))\n",
    "print(keys)\n",
    "print(vals)"
   ]
  },
  {
   "cell_type": "code",
   "execution_count": 14,
   "metadata": {},
   "outputs": [],
   "source": [
    "# Linked list\n",
    "class ListNode:\n",
    "    def __init__(self, x):\n",
    "        self.val = x\n",
    "        self.next = None"
   ]
  },
  {
   "cell_type": "code",
   "execution_count": 15,
   "metadata": {},
   "outputs": [
    {
     "output_type": "stream",
     "name": "stdout",
     "text": [
      "[8, 9, 10, 1, 2, 3, 4, 5, 6, 7]\n"
     ]
    }
   ],
   "source": [
    "# Given an array, rotate the array to the right by k moves\n",
    "nums, k = [1,2,3,4,5,6,7,8,9,10], 3\n",
    "k = k % len(nums)\n",
    "nums.reverse()\n",
    "nums[:k] = nums[:k][::-1]\n",
    "nums[k:] = nums[k:][::-1]\n",
    "print(nums)"
   ]
  },
  {
   "cell_type": "code",
   "execution_count": null,
   "metadata": {},
   "outputs": [],
   "source": [
    "# Overload comparsion methods\n",
    "import heapq\n",
    "class Word:\n",
    "    def __init__(self, freq, word):\n",
    "        self.freq = freq\n",
    "        self.word = word\n",
    "    \n",
    "    def __lt__(self, other):\n",
    "        if self.freq == other.freq:\n",
    "            return self.word > other.word\n",
    "        return self.freq < other.freq\n",
    "    \n",
    "    def __eq__(self, other):\n",
    "        return self.freq == other.freq and self.word == other.word\n",
    "    \n",
    "class Solution:\n",
    "    def topKFrequent(self, words: List[str], k: int) -> List[str]:\n",
    "        hashtab = {}\n",
    "        for word in words:\n",
    "            hashtab[word] = hashtab.get(word, 0) + 1\n",
    "        \n",
    "        klist = []\n",
    "        for key in hashtab.keys():\n",
    "            heapq.heappush(klist, (Word(hashtab[key], key), key))\n",
    "            if len(klist) > k:\n",
    "                heapq.heappop(klist)\n",
    "        \n",
    "        ans = []\n",
    "        for _ in range(k):\n",
    "            ans.append(heapq.heappop(klist)[1])\n",
    "        return ans[::-1]"
   ]
  }
 ]
}