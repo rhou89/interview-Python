{
 "metadata": {
  "language_info": {
   "codemirror_mode": {
    "name": "ipython",
    "version": 3
   },
   "file_extension": ".py",
   "mimetype": "text/x-python",
   "name": "python",
   "nbconvert_exporter": "python",
   "pygments_lexer": "ipython3",
   "version": "3.8.5-final"
  },
  "orig_nbformat": 2,
  "kernelspec": {
   "name": "python3",
   "display_name": "Python 3",
   "language": "python"
  }
 },
 "nbformat": 4,
 "nbformat_minor": 2,
 "cells": [
  {
   "cell_type": "code",
   "execution_count": 1,
   "metadata": {},
   "outputs": [],
   "source": [
    "# Dijkstra's single \n",
    "def startwith(start: int, mgraph: list) -> list:\n",
    "    passed = [start]\n",
    "    nopass = [x for x in range(len(mgraph)) if x != start]\n",
    "    dis = mgraph[start]\n",
    "    \n",
    "    while len(nopass):\n",
    "        idx = nopass[0]\n",
    "        for i in nopass:\n",
    "            if dis[i] < dis[idx]: idx = i\n",
    "\n",
    "        nopass.remove(idx)\n",
    "        passed.append(idx)\n",
    "\n",
    "        for i in nopass:\n",
    "            if dis[idx] + mgraph[idx][i] < dis[i]: dis[i] = dis[idx] + mgraph[idx][i]\n",
    "    return dis"
   ]
  },
  {
   "cell_type": "code",
   "execution_count": null,
   "metadata": {},
   "outputs": [],
   "source": [
    "# Bellman ford\n",
    "def BellmanFord(self, src):  \n",
    "    dist = [float(\"Inf\")] * self.V  \n",
    "    dist[src] = 0\n",
    "\n",
    "    for _ in range(self.V - 1): \n",
    "        for u, v, w in self.graph:  \n",
    "            if dist[u] != float(\"Inf\") and dist[u] + w < dist[v]:  \n",
    "                    dist[v] = dist[u] + w\n",
    "\n",
    "    for u, v, w in self.graph:  \n",
    "            if dist[u] != float(\"Inf\") and dist[u] + w < dist[v]:  \n",
    "                    print(\"Graph contains negative weight cycle\") \n",
    "                    return\n",
    "                        \n",
    "    self.printArr(dist)"
   ]
  },
  {
   "cell_type": "code",
   "execution_count": null,
   "metadata": {},
   "outputs": [],
   "source": [
    "# Floyd\n",
    "for k in range(n):\n",
    "    for i in range(n):\n",
    "        for j in eange(n):\n",
    "            if dist[i][j] > dist[i][k]+dist[k][j]: dist[i][j] = dist[i][k]+dist[k][j]"
   ]
  },
  {
   "cell_type": "code",
   "execution_count": null,
   "metadata": {},
   "outputs": [],
   "source": [
    "# Prim\n",
    "def prim(graph, vertex_num):\n",
    "    INF = 1 << 10\n",
    "    visit = [False] * vertex_num\n",
    "    dist = [INF] * vertex_num\n",
    "    #preIndex = [0] * vertex_num\n",
    "\n",
    "    for i in range(vertex_num):\n",
    "        minDist = INF + 1\n",
    "        nextIndex = -1\n",
    "        for j in range(vertex_num):\n",
    "            if dist[j] < minDist and not visit[j]:\n",
    "                minDist = dist[j]\n",
    "                nextIndex = j\n",
    "\n",
    "        print (nextIndex)\n",
    "        visit[nextIndex] = True\n",
    "        for j in range(vertex_num):\n",
    "            if dist[j] > graph[nextIndex][j] and not visit[j]:\n",
    "                dist[j] = graph[nextIndex][j]\n",
    "                #preIndex[j] = nextIndex\n",
    "\n",
    "    return dist, #preIndex"
   ]
  },
  {
   "cell_type": "code",
   "execution_count": 30,
   "metadata": {},
   "outputs": [],
   "source": [
    "# Kruskal\n",
    "class DisjointSet(dict):\n",
    " \n",
    "    def __init__(self, dict):\n",
    "        pass\n",
    " \n",
    "    def add(self, item):\n",
    "        self[item] = item\n",
    " \n",
    "    def find(self, item):\n",
    "        if self[item] != item:\n",
    "            self[item] = self.find(self[item])\n",
    "        return self[item]\n",
    " \n",
    "    def unionset(self, item1, item2):\n",
    "        self[item2] = self[item1]\n",
    " \n",
    " \n",
    "def Kruskal(nodes, edges):\n",
    "    forest = DisjointSet(nodes)\n",
    "    MST = []\n",
    "    for item in nodes:\n",
    "        print(item)\n",
    "        forest.add(item)\n",
    "\n",
    "    edges = sorted(edges, key=lambda element: element[2])\n",
    "\n",
    "    num_sides = len(nodes)-1 \n",
    "    for e in edges:\n",
    "        node1, node2, _ = e\n",
    "        parent1 = forest.find(node1)\n",
    "        parent2 = forest.find(node2)\n",
    "        if parent1 != parent2:\n",
    "            MST.append(e)\n",
    "            num_sides -= 1\n",
    "            if num_sides == 0:\n",
    "                return MST\n",
    "            else:\n",
    "                forest.unionset(parent1, parent2)\n"
   ]
  }
 ]
}