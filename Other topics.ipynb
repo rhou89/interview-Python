{
 "metadata": {
  "language_info": {
   "codemirror_mode": {
    "name": "ipython",
    "version": 3
   },
   "file_extension": ".py",
   "mimetype": "text/x-python",
   "name": "python",
   "nbconvert_exporter": "python",
   "pygments_lexer": "ipython3",
   "version": "3.8.2-final"
  },
  "orig_nbformat": 2,
  "kernelspec": {
   "name": "python3",
   "display_name": "Python 3.8.2 64-bit",
   "metadata": {
    "interpreter": {
     "hash": "31f2aee4e71d21fbe5cf8b01ff0e069b9275f58929596ceb00d14d90e3e16cd6"
    }
   }
  }
 },
 "nbformat": 4,
 "nbformat_minor": 2,
 "cells": [
  {
   "cell_type": "code",
   "execution_count": 740,
   "metadata": {},
   "outputs": [
    {
     "output_type": "stream",
     "name": "stdout",
     "text": [
      "[1, 2, 3, 4]\n[4, 1, 2, 3]\n"
     ]
    }
   ],
   "source": [
    "# Python random\n",
    "import random\n",
    "a = [1,2,3,4]\n",
    "random.sample(a , len(a))\n",
    "print(a)\n",
    "random.shuffle(a)\n",
    "print(a)"
   ]
  },
  {
   "cell_type": "code",
   "execution_count": 746,
   "metadata": {},
   "outputs": [
    {
     "output_type": "stream",
     "name": "stdout",
     "text": [
      "11\n0b1101\n"
     ]
    }
   ],
   "source": [
    "# Python bit operation\n",
    "# << (LEFT SHIFT); >> (RIGHT SHIFT); & (AND); | (OR); ~ (NOT); ^ (XOR)\n",
    "print(0b1011 & 0b111111111111111111111111111)\n",
    "print(bin(13)) # as str\n",
    "print(hex(100)) # as str"
   ]
  },
  {
   "cell_type": "code",
   "execution_count": 763,
   "metadata": {},
   "outputs": [
    {
     "output_type": "stream",
     "name": "stdout",
     "text": [
      "512\n"
     ]
    }
   ],
   "source": [
    "# Sum using bit operation\n",
    "def getSum(a: int, b: int) -> int:\n",
    "        x = 0xffffffff\n",
    "        a, b = a & x, b & x\n",
    "        \n",
    "        mysum, carry = a ^ b, (a & b) << 1 & x\n",
    "        while carry!=0:\n",
    "            mysum, carry = mysum ^ carry, (mysum & carry) << 1 & x\n",
    "        \n",
    "        return mysum if mysum <= 0x7fffffff else ~(mysum ^ x)\n",
    "\n",
    "print(getSum(110, -211))\n",
    "# a -> -a\n",
    "print(~-512+1)"
   ]
  },
  {
   "cell_type": "code",
   "execution_count": 2,
   "metadata": {},
   "outputs": [
    {
     "output_type": "execute_result",
     "data": {
      "text/plain": [
       "[0, 0, 1, 1, 2]"
      ]
     },
     "metadata": {},
     "execution_count": 2
    }
   ],
   "source": [
    "# KMP\n",
    "# a b a b a c a\n",
    "# 0 0 1 2 3 0 1\n",
    "def prefix(p):\n",
    "   m=len(p)\n",
    "   pi=[0]*m\n",
    "   j=0\n",
    "   for i in range(1,m):\n",
    "      while j>=0 and p[j]!=p[i]:\n",
    "         if j-1>=0: j=pi[j-1]\n",
    "         else: j=-1 \n",
    "      j+=1\n",
    "      pi[i]=j\n",
    "   return pi\n",
    "\n",
    "def find_occurrences(S,p):\n",
    "   matches = []\n",
    "   f=prefix(p)\n",
    "   n,m=len(S),len(p)\n",
    "   j=0\n",
    "   for i in range(n):\n",
    "      while j>=0 and t[i]!=p[j]:\n",
    "         if j>0: j=f[j-1]\n",
    "         else: j=-1\n",
    "      j+=1  \n",
    "      if j==m:\n",
    "         j=f[m-1]\n",
    "         matches.append(i-m+1)\n",
    "   return matches\n",
    "\n",
    "prefix('ATAAT')"
   ]
  },
  {
   "cell_type": "code",
   "execution_count": 778,
   "metadata": {},
   "outputs": [
    {
     "output_type": "execute_result",
     "data": {
      "text/plain": [
       "2"
      ]
     },
     "metadata": {},
     "execution_count": 778
    }
   ],
   "source": [
    "def gcd(a, b):\n",
    "    if b==0:\n",
    "        return a\n",
    "    return gcd(b, a%b)\n",
    "gcd(10,6)"
   ]
  },
  {
   "cell_type": "code",
   "execution_count": 20,
   "metadata": {},
   "outputs": [
    {
     "output_type": "stream",
     "name": "stdout",
     "text": [
      "False\nTrue\nFalse\n"
     ]
    }
   ],
   "source": [
    "# is operation\n",
    "a = []\n",
    "b = c = []\n",
    "print(a is b)\n",
    "print(b is c)\n",
    "print(a is c)"
   ]
  },
  {
   "cell_type": "code",
   "execution_count": 1,
   "metadata": {},
   "outputs": [
    {
     "output_type": "stream",
     "name": "stdout",
     "text": [
      "a ['a', 'a']\nb ['b', 'b']\na ['a', 'a']\nb ['b', 'b']\na ['a', 'a']\nb ['b', 'b']\na ['a', 'a', 'a']\n"
     ]
    }
   ],
   "source": [
    "# Python groupby\n",
    "from itertools import groupby\n",
    "for c, g in groupby('aabbaabbaabbaaa'):\n",
    "    print(c, list(g))"
   ]
  },
  {
   "cell_type": "code",
   "execution_count": 44,
   "metadata": {},
   "outputs": [
    {
     "output_type": "stream",
     "name": "stdout",
     "text": [
      "3\n"
     ]
    }
   ],
   "source": [
    "# bisect_left implementation\n",
    "A =  [5,7,7,8,8,10]\n",
    "x = 8\n",
    "lf = 0\n",
    "rg = len(A)\n",
    "\n",
    "while lf < rg:\n",
    "    mid = lf + (rg-lf)//2\n",
    "    if A[mid] < x:\n",
    "        lf = mid + 1\n",
    "    else:\n",
    "        rg = mid\n",
    "print(lf)\n"
   ]
  },
  {
   "cell_type": "code",
   "execution_count": 45,
   "metadata": {},
   "outputs": [
    {
     "output_type": "stream",
     "name": "stdout",
     "text": [
      "4\n"
     ]
    }
   ],
   "source": [
    "# bisect_right implementation\n",
    "A =  [5,7,7,8,8,10]\n",
    "x = 8\n",
    "lf = 0\n",
    "rg = len(A)\n",
    "\n",
    "while lf < rg:\n",
    "    mid = lf + (rg-lf)//2\n",
    "    if A[mid] <= x:\n",
    "        lf = mid + 1\n",
    "    else:\n",
    "        rg = mid\n",
    "\n",
    "print(lf-1)"
   ]
  }
 ]
}