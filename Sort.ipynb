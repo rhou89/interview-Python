{
 "metadata": {
  "language_info": {
   "codemirror_mode": {
    "name": "ipython",
    "version": 3
   },
   "file_extension": ".py",
   "mimetype": "text/x-python",
   "name": "python",
   "nbconvert_exporter": "python",
   "pygments_lexer": "ipython3",
   "version": "3.8.5"
  },
  "orig_nbformat": 2,
  "kernelspec": {
   "name": "python3",
   "display_name": "Python 3",
   "language": "python"
  }
 },
 "nbformat": 4,
 "nbformat_minor": 2,
 "cells": [
  {
   "cell_type": "code",
   "execution_count": 1,
   "metadata": {},
   "outputs": [
    {
     "output_type": "execute_result",
     "data": {
      "text/plain": [
       "['9', '5', '34', '3', '30']"
      ]
     },
     "metadata": {},
     "execution_count": 1
    }
   ],
   "source": [
    "# Overload to customize sort\n",
    "class LargerNumKey(str):\n",
    "    def __lt__(x, y):\n",
    "        return x+y > y+x\n",
    "\n",
    "nums = [3,30,34,5,9]\n",
    "nums = list(map(str,nums))\n",
    "nums.sort(key=LargerNumKey)\n",
    "nums"
   ]
  },
  {
   "cell_type": "code",
   "execution_count": 1,
   "metadata": {},
   "outputs": [
    {
     "output_type": "stream",
     "name": "stdout",
     "text": [
      "[-10, 1, 5, 7, 8, 9, 10]\n"
     ]
    }
   ],
   "source": [
    "# Fast sort\n",
    "import random\n",
    "def partition(arr,low,high): \n",
    "    i = low-1\n",
    "\n",
    "    # index = random.randint(low,high)\n",
    "    # arr[high], arr[index] = arr[index], arr[high]\n",
    "\n",
    "    pivot = arr[high]\n",
    "  \n",
    "    for j in range(low , high):\n",
    "        if arr[j] <= pivot: \n",
    "            i += 1 \n",
    "            arr[i],arr[j] = arr[j],arr[i] \n",
    "  \n",
    "    arr[i+1],arr[high] = arr[high],arr[i+1] \n",
    "    return i+1\n",
    "\n",
    "def quickSort(arr,low,high): \n",
    "    if low < high: \n",
    "        pi = partition(arr,low,high)\n",
    "        quickSort(arr, low, pi-1)\n",
    "        quickSort(arr, pi+1, high)\n",
    "  \n",
    "arr = [10, 7, 8, 9, 1, 5, -10] \n",
    "quickSort(arr,0,len(arr)-1) \n",
    "print(arr)"
   ]
  },
  {
   "cell_type": "code",
   "execution_count": 2,
   "metadata": {},
   "outputs": [
    {
     "output_type": "stream",
     "name": "stdout",
     "text": [
      "[5, 6, 11, 12, 13]\n"
     ]
    }
   ],
   "source": [
    "def insertionSort(arr): \n",
    "    for i in range(1, len(arr)): \n",
    "        key = arr[i]\n",
    "        j = i-1\n",
    "        while j >=0 and key < arr[j] : \n",
    "                arr[j+1] = arr[j] \n",
    "                j -= 1\n",
    "        arr[j+1] = key\n",
    "\n",
    "arr = [12, 11, 13, 5, 6] \n",
    "insertionSort(arr) \n",
    "print(arr)"
   ]
  },
  {
   "cell_type": "code",
   "execution_count": null,
   "metadata": {},
   "outputs": [],
   "source": [
    "# selection\n",
    "A = [64, 25, 12, 22, 11] \n",
    "\n",
    "for i in range(len(A)): \n",
    "    min_idx = i \n",
    "    for j in range(i+1, len(A)): \n",
    "        if A[min_idx] > A[j]: \n",
    "            min_idx = j       \n",
    "    A[i], A[min_idx] = A[min_idx], A[i] "
   ]
  }
 ]
}